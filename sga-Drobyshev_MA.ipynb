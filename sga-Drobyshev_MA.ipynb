{
 "cells": [
  {
   "cell_type": "markdown",
   "metadata": {},
   "source": [
    "# User routes on the site\n",
    "## Description\n",
    "**Clickstream** is a sequence of user actions on a website. It allows you to understand how users interact with the site. In this task, you need to find the most frequent custom routes.\n",
    "\n",
    "## Input data\n",
    "Input data is а table with clickstream data in file `hdfs:/data/clickstream.csv`.\n",
    "\n",
    "### Table structure\n",
    "* `user_id (int)` - Unique user identifier.\n",
    "* `session_id (int)` - Unique identifier for the user session. The user's session lasts until the identifier changes.\n",
    "* `event_type (string)` - Event type from the list:\n",
    "    * **page** - visit to the page\n",
    "    * **event** - any action on the page\n",
    "    * <b>&lt;custom&gt;</b> - string with any other type\n",
    "* `event_type (string)` - Page on the site.\n",
    "* `timestamp (int)` - Unix-timestamp of action.\n",
    "\n",
    "### Browser errors\n",
    "Errors can sometimes occur in the user's browser - after such an error appears, we can no longer trust the data of this session and all the following lines after the error or at the same time with it are considered corrupted and **should not be counted** in statistics.\n",
    "\n",
    "When an error occurs on the page, a random string containing the word **error** will be written to the `event_type` field.\n",
    "\n",
    "### Sample of user session\n",
    "<pre>\n",
    "+-------+----------+------------+----------+----------+\n",
    "|user_id|session_id|  event_type|event_page| timestamp|\n",
    "+-------+----------+------------+----------+----------+\n",
    "|    562|       507|        page|      main|1620494781|\n",
    "|    562|       507|       event|      main|1620494788|\n",
    "|    562|       507|       event|      main|1620494798|\n",
    "|    562|       507|        page|    family|1620494820|\n",
    "|    562|       507|       event|    family|1620494828|\n",
    "|    562|       507|        page|      main|1620494848|\n",
    "|    562|       507|wNaxLlerrorU|      main|1620494865|\n",
    "|    562|       507|       event|      main|1620494873|\n",
    "|    562|       507|        page|      news|1620494875|\n",
    "|    562|       507|        page|   tariffs|1620494876|\n",
    "|    562|       507|       event|   tariffs|1620494884|\n",
    "|    562|       514|        page|      main|1620728918|\n",
    "|    562|       514|       event|      main|1620729174|\n",
    "|    562|       514|        page|   archive|1620729674|\n",
    "|    562|       514|        page|     bonus|1620729797|\n",
    "|    562|       514|        page|   tariffs|1620731090|\n",
    "|    562|       514|       event|   tariffs|1620731187|\n",
    "+-------+----------+------------+----------+----------+\n",
    "</pre>\n",
    "\n",
    "#### Correct user routes for a given user:\n",
    "* **Session 507**: main-family-main\n",
    "* **Session 514**: main-archive-bonus-tariffs\n",
    "\n",
    "Route elements are ordered by the time they appear in the clickstream, from earliest to latest.\n",
    "\n",
    "The route must be accounted for completely before the end of the session or an error in the session.\n",
    "\n",
    "## Task\n",
    "You need to use the Spark SQL, Spark RDD and Spark DF interfaces to create a solution file, the lines of which contain **the 30 most frequent user routes** on the site.\n",
    "\n",
    "Each line of the file should contain the `route` and `count` values **separated by tabs**, where:\n",
    "* `route` - route on the site, consisting of pages separated by \"-\".\n",
    "* `count` - the number of user sessions in which this route was.\n",
    "\n",
    "The lines must be **ordered in descending order** of the `count` field.\n",
    "\n",
    "## Criteria\n",
    "You can get maximum of 3.5 points (final grade) for this assignment, depedning on the number of interface you manage to leverage. The criteria are as follows:\n",
    "\n",
    "* 0.5 points – Spark SQL solution with 1 query\n",
    "* 0.5 points – Spark SQL solution with <=2 queries\n",
    "* 0.5 points – Spark RDD solution\n",
    "* 0.5 points – Spark DF solution\n",
    "* 0.5 points – your solution algorithm is relatively optimized, i.e.: no O^2 or O^3 complexities; appropriate object usage; no data leaks etc. This is evaluated by staff.\n",
    "* 1 point – 1 on 1 screening session. During this session staff member can ask you questions regarding your solution logic, framework usage, questionable parts of your code etc. If your code is clean enough, the staff member can just ask you to solve a theoretical problem connected to Spark.\n"
   ]
  },
  {
   "cell_type": "code",
   "execution_count": 1,
   "metadata": {
    "tags": []
   },
   "outputs": [
    {
     "name": "stderr",
     "output_type": "stream",
     "text": [
      "Setting default log level to \"WARN\".\n",
      "To adjust logging level use sc.setLogLevel(newLevel). For SparkR, use setLogLevel(newLevel).\n",
      "2024-10-26 11:16:41,611 WARN yarn.Client: Neither spark.yarn.jars nor spark.yarn.archive is set, falling back to uploading libraries under SPARK_HOME.\n"
     ]
    }
   ],
   "source": [
    "import findspark\n",
    "findspark.init()\n",
    "\n",
    "from pyspark import SparkContext\n",
    "sc = SparkContext(appName='sga')\n",
    "\n",
    "from pyspark.sql import SparkSession, Row\n",
    "spark = SparkSession(sc)"
   ]
  },
  {
   "cell_type": "code",
   "execution_count": 5,
   "metadata": {
    "tags": []
   },
   "outputs": [],
   "source": [
    "import pyspark.sql.functions as f\n",
    "from pyspark.sql.window import Window"
   ]
  },
  {
   "cell_type": "code",
   "execution_count": 7,
   "metadata": {
    "tags": []
   },
   "outputs": [
    {
     "name": "stdout",
     "output_type": "stream",
     "text": [
      "   user_id  session_id    event_type event_page   timestamp\n",
      "0      562         507          page       main  1695584127\n",
      "1      562         507         event       main  1695584134\n",
      "2      562         507         event       main  1695584144\n",
      "3      562         507         event       main  1695584147\n",
      "4      562         507  wNaxLlerrorU       main  1695584154\n"
     ]
    }
   ],
   "source": [
    "import pandas as pd\n",
    "\n",
    "clickstream_df = pd.read_csv('./clickstream.csv', sep='\\t')\n",
    "\n",
    "print(clickstream_df.head())"
   ]
  },
  {
   "cell_type": "code",
   "execution_count": 8,
   "metadata": {
    "tags": []
   },
   "outputs": [],
   "source": [
    "spark_clickstream_df = spark.createDataFrame(clickstream_df)\n",
    "\n",
    "spark_clickstream_df.createOrReplaceTempView('clickstream')"
   ]
  },
  {
   "cell_type": "markdown",
   "metadata": {},
   "source": [
    "# Using SQL"
   ]
  },
  {
   "cell_type": "code",
   "execution_count": 9,
   "metadata": {
    "tags": []
   },
   "outputs": [
    {
     "name": "stderr",
     "output_type": "stream",
     "text": [
      "[Stage 5:>                                                          (0 + 1) / 1]\r"
     ]
    },
    {
     "name": "stdout",
     "output_type": "stream",
     "text": [
      "+--------------------+-----+\n",
      "|               route|count|\n",
      "+--------------------+-----+\n",
      "|                main| 8184|\n",
      "|        main-archive| 1113|\n",
      "|         main-rabota| 1047|\n",
      "|       main-internet|  897|\n",
      "|          main-bonus|  870|\n",
      "|           main-news|  769|\n",
      "|        main-tariffs|  677|\n",
      "|         main-online|  587|\n",
      "|          main-vklad|  518|\n",
      "| main-rabota-archive|  170|\n",
      "| main-archive-rabota|  167|\n",
      "|  main-bonus-archive|  143|\n",
      "|   main-rabota-bonus|  139|\n",
      "|    main-news-rabota|  135|\n",
      "|   main-bonus-rabota|  135|\n",
      "|main-archive-inte...|  132|\n",
      "|    main-rabota-news|  130|\n",
      "|main-internet-rabota|  129|\n",
      "|   main-archive-news|  126|\n",
      "|main-rabota-internet|  124|\n",
      "|main-internet-arc...|  123|\n",
      "|  main-archive-bonus|  117|\n",
      "| main-internet-bonus|  115|\n",
      "|main-tariffs-inte...|  114|\n",
      "|   main-news-archive|  113|\n",
      "|  main-news-internet|  109|\n",
      "|main-archive-tariffs|  104|\n",
      "|main-tariffs-archive|  103|\n",
      "|  main-internet-news|  103|\n",
      "|    main-rabota-main|   94|\n",
      "+--------------------+-----+\n",
      "\n"
     ]
    },
    {
     "name": "stderr",
     "output_type": "stream",
     "text": [
      "                                                                                \r"
     ]
    }
   ],
   "source": [
    "routes_sql = spark.sql(\"\"\"\n",
    "WITH error_flagged AS (\n",
    "    SELECT \n",
    "        user_id, \n",
    "        session_id, \n",
    "        event_page, \n",
    "        timestamp,\n",
    "        MAX(CASE WHEN event_type LIKE '%error%' THEN 1 ELSE 0 END) OVER (PARTITION BY user_id, session_id ORDER BY timestamp) AS error_flag\n",
    "    FROM \n",
    "        clickstream\n",
    "),\n",
    "\n",
    "duplicate_flagged AS (\n",
    "    SELECT \n",
    "        user_id, \n",
    "        session_id,\n",
    "        event_page,\n",
    "        timestamp,\n",
    "        CASE WHEN LAG(event_page) OVER (PARTITION BY user_id, session_id ORDER BY timestamp) = event_page THEN 1 ELSE 0 END AS duplicate_flag\n",
    "    FROM \n",
    "        error_flagged\n",
    "    WHERE\n",
    "        error_flag <> 1\n",
    "),\n",
    "\n",
    "all_routes AS (\n",
    "    SELECT \n",
    "        user_id, \n",
    "        session_id,\n",
    "        CONCAT_WS('-', COLLECT_LIST(event_page) OVER (PARTITION BY user_id, session_id ORDER BY timestamp)) AS route\n",
    "    FROM \n",
    "        duplicate_flagged\n",
    "    WHERE \n",
    "        duplicate_flag <> 1\n",
    "),\n",
    "\n",
    "routes_per_user_sess AS (\n",
    "    SELECT\n",
    "        user_id, \n",
    "        session_id,\n",
    "        MAX(route) AS route\n",
    "    FROM \n",
    "        all_routes\n",
    "    GROUP BY\n",
    "        user_id, session_id\n",
    ")\n",
    "\n",
    "SELECT \n",
    "    route,\n",
    "    COUNT(*) as count\n",
    "FROM \n",
    "    routes_per_user_sess \n",
    "GROUP BY\n",
    "    route\n",
    "ORDER BY \n",
    "    count DESC\n",
    "LIMIT 30\n",
    "\"\"\")\n",
    "\n",
    "routes_sql.show(30)"
   ]
  },
  {
   "cell_type": "markdown",
   "metadata": {},
   "source": [
    "# Using DF"
   ]
  },
  {
   "cell_type": "code",
   "execution_count": 11,
   "metadata": {
    "tags": []
   },
   "outputs": [
    {
     "name": "stderr",
     "output_type": "stream",
     "text": [
      "[Stage 11:>                                                         (0 + 1) / 1]\r"
     ]
    },
    {
     "name": "stdout",
     "output_type": "stream",
     "text": [
      "+--------------------+-----+\n",
      "|               route|count|\n",
      "+--------------------+-----+\n",
      "|                main| 8184|\n",
      "|        main-archive| 1113|\n",
      "|         main-rabota| 1047|\n",
      "|       main-internet|  897|\n",
      "|          main-bonus|  870|\n",
      "|           main-news|  769|\n",
      "|        main-tariffs|  677|\n",
      "|         main-online|  587|\n",
      "|          main-vklad|  518|\n",
      "| main-rabota-archive|  170|\n",
      "| main-archive-rabota|  167|\n",
      "|  main-bonus-archive|  143|\n",
      "|   main-rabota-bonus|  139|\n",
      "|   main-bonus-rabota|  135|\n",
      "|    main-news-rabota|  135|\n",
      "|main-archive-inte...|  132|\n",
      "|    main-rabota-news|  130|\n",
      "|main-internet-rabota|  129|\n",
      "|   main-archive-news|  126|\n",
      "|main-rabota-internet|  124|\n",
      "|main-internet-arc...|  123|\n",
      "|  main-archive-bonus|  117|\n",
      "| main-internet-bonus|  115|\n",
      "|main-tariffs-inte...|  114|\n",
      "|   main-news-archive|  113|\n",
      "|  main-news-internet|  109|\n",
      "|main-archive-tariffs|  104|\n",
      "|  main-internet-news|  103|\n",
      "|main-tariffs-archive|  103|\n",
      "|    main-rabota-main|   94|\n",
      "+--------------------+-----+\n",
      "\n"
     ]
    },
    {
     "name": "stderr",
     "output_type": "stream",
     "text": [
      "                                                                                \r"
     ]
    }
   ],
   "source": [
    "\n",
    "event_window = Window.partitionBy(\"user_id\", \"session_id\").orderBy(\"timestamp\")\n",
    "\n",
    "clickstream_w_error_flags = (spark_clickstream_df\n",
    "                             .withColumn(\"error_flag\", \n",
    "                                         f.max(\n",
    "                                             f.when(f.col(\"event_type\").like(\"%error%\"), 1)\n",
    "                                             .otherwise(0))\n",
    "                                             .over(event_window))\n",
    "                                             )\n",
    "filtered_from_errors = clickstream_w_error_flags.filter(f.col('error_flag') != 1)\n",
    "\n",
    "filtered_w_dup_flags = (filtered_from_errors\n",
    "              .withColumn(\"duplicate_flag\",\n",
    "                    f.when(f.lag('event_page').over(event_window) == f.col('event_page'), 1)\n",
    "                    .otherwise(0))\n",
    "     )\n",
    "\n",
    "deduplicated = filtered_w_dup_flags.filter(f.col('duplicate_flag') != 1)\n",
    "\n",
    "deduplicated_routes = deduplicated.withColumn('sorted_route', \n",
    "                                              f.concat_ws(\"-\", f.collect_list('event_page').over(event_window)))\n",
    "max_routes = (deduplicated_routes\n",
    "          .groupby('user_id', 'session_id')\n",
    "          .agg(f.max('sorted_route').alias('route'))\n",
    "         )\n",
    "\n",
    "\n",
    "routes_df = (max_routes\n",
    "                   .groupby('route').agg(f.count('*').alias('count'))\n",
    "                   .orderBy(f.desc('count'))\n",
    "                   .limit(30)\n",
    "                  )\n",
    "\n",
    "routes_df.show(30)"
   ]
  },
  {
   "cell_type": "code",
   "execution_count": 24,
   "metadata": {
    "tags": []
   },
   "outputs": [
    {
     "name": "stderr",
     "output_type": "stream",
     "text": [
      "                                                                                \r"
     ]
    },
    {
     "name": "stdout",
     "output_type": "stream",
     "text": [
      "+--------------------+-----+\n",
      "|               route|count|\n",
      "+--------------------+-----+\n",
      "|                main| 8185|\n",
      "|        main-archive| 1113|\n",
      "|         main-rabota| 1047|\n",
      "|       main-internet|  897|\n",
      "|          main-bonus|  870|\n",
      "|           main-news|  769|\n",
      "|        main-tariffs|  677|\n",
      "|         main-online|  587|\n",
      "|          main-vklad|  518|\n",
      "| main-rabota-archive|  170|\n",
      "| main-archive-rabota|  167|\n",
      "|  main-bonus-archive|  143|\n",
      "|   main-rabota-bonus|  139|\n",
      "|   main-bonus-rabota|  135|\n",
      "|    main-news-rabota|  135|\n",
      "|main-archive-inte...|  132|\n",
      "|    main-rabota-news|  130|\n",
      "|main-internet-rabota|  129|\n",
      "|   main-archive-news|  126|\n",
      "|main-rabota-internet|  124|\n",
      "|main-internet-arc...|  123|\n",
      "|  main-archive-bonus|  117|\n",
      "| main-internet-bonus|  115|\n",
      "|   main-news-archive|  113|\n",
      "|main-tariffs-inte...|  113|\n",
      "|  main-news-internet|  109|\n",
      "|main-archive-tariffs|  104|\n",
      "|  main-internet-news|  103|\n",
      "|main-tariffs-archive|  103|\n",
      "|    main-rabota-main|   94|\n",
      "+--------------------+-----+\n",
      "\n"
     ]
    }
   ],
   "source": [
    "# Convert DataFrame to RDD with required fields\n",
    "clickstream_rdd = spark_clickstream_df.rdd.map(lambda row: \n",
    "    (row['user_id'], row['session_id'], row['event_type'], row['event_page'], row['timestamp']))\n",
    "\n",
    "def filter_errors(events):\n",
    "    error_flag = False\n",
    "    filtered_events = []\n",
    "    for event in events:\n",
    "        user_id, session_id, event_type, event_page, timestamp = event\n",
    "        if 'error' in event_type:\n",
    "            error_flag = True\n",
    "        if not error_flag:\n",
    "            filtered_events.append(event)\n",
    "    return filtered_events\n",
    "\n",
    "filtered_clickstream_rdd = clickstream_rdd.groupBy(lambda x: (x[0], x[1])) \\\n",
    "    .flatMap(lambda x: filter_errors(sorted(x[1], key=lambda y: y[4])))\n",
    "\n",
    "def remove_duplicates(events):\n",
    "    unique_events = []\n",
    "    last_page = None\n",
    "    for event in events:\n",
    "        user_id, session_id, event_type, event_page, timestamp = event\n",
    "        if event_page != last_page:\n",
    "            unique_events.append(event)\n",
    "            last_page = event_page\n",
    "    return unique_events\n",
    "\n",
    "deduplicated_rdd = filtered_clickstream_rdd.groupBy(lambda x: (x[0], x[1])) \\\n",
    "    .flatMap(lambda x: remove_duplicates(sorted(x[1], key=lambda y: y[4])))\n",
    "\n",
    "def generate_route(events):\n",
    "    events = sorted(events, key=lambda x: x[4])  # Sort by timestamp\n",
    "    route = '-'.join([event[3] for event in events])  # Concatenate event_pages\n",
    "    user_id, session_id = events[0][0], events[0][1]\n",
    "    return (route, 1)\n",
    "\n",
    "routes_rdd = deduplicated_rdd.groupBy(lambda x: (x[0], x[1])) \\\n",
    "    .map(lambda x: generate_route(x[1])) \\\n",
    "    .reduceByKey(lambda a, b: a + b)\n",
    "\n",
    "top_routes = routes_rdd.sortBy(lambda x: -x[1]).take(30)\n",
    "top_routes_rdd = sc.parallelize(top_routes)\n",
    "top_routes_df = top_routes_rdd.map(lambda x: Row(route=x[0], count=x[1])).toDF()\n",
    "\n",
    "top_routes_df.show(30)"
   ]
  },
  {
   "cell_type": "code",
   "execution_count": 25,
   "metadata": {
    "tags": []
   },
   "outputs": [
    {
     "name": "stderr",
     "output_type": "stream",
     "text": [
      "                                                                                \r"
     ]
    },
    {
     "name": "stdout",
     "output_type": "stream",
     "text": [
      "+---------------------+--------+---------+\n",
      "|route                |df_count|rdd_count|\n",
      "+---------------------+--------+---------+\n",
      "|main                 |8184    |8185     |\n",
      "|main-tariffs-internet|114     |113      |\n",
      "+---------------------+--------+---------+\n",
      "\n"
     ]
    }
   ],
   "source": [
    "routes_df = routes_df.withColumnRenamed(\"count\", \"df_count\")\n",
    "top_routes_df = top_routes_df.withColumnRenamed(\"count\", \"rdd_count\")\n",
    "\n",
    "comparison_df = routes_df.join(top_routes_df, on=\"route\", how=\"inner\")\n",
    "\n",
    "mismatched_counts_df = comparison_df.filter(comparison_df[\"df_count\"] != comparison_df[\"rdd_count\"])\n",
    "\n",
    "mismatched_counts_df.show(truncate=False)"
   ]
  },
  {
   "cell_type": "code",
   "execution_count": null,
   "metadata": {},
   "outputs": [],
   "source": []
  },
  {
   "cell_type": "code",
   "execution_count": 30,
   "metadata": {
    "tags": []
   },
   "outputs": [
    {
     "name": "stdout",
     "output_type": "stream",
     "text": [
      "root\n",
      " |-- route: string (nullable = true)\n",
      " |-- df_count: long (nullable = false)\n",
      "\n"
     ]
    },
    {
     "name": "stderr",
     "output_type": "stream",
     "text": [
      "[Stage 132:========================================>               (8 + 2) / 11]\r"
     ]
    },
    {
     "name": "stdout",
     "output_type": "stream",
     "text": [
      "The top 10 most frequent routes have been saved to result.json.\n"
     ]
    },
    {
     "name": "stderr",
     "output_type": "stream",
     "text": [
      "                                                                                \r"
     ]
    }
   ],
   "source": [
    "import json\n",
    "\n",
    "# Ensure the schema is correct by checking field names\n",
    "routes_df.printSchema()\n",
    "\n",
    "# Extract the top 10 routes as a list of Row objects\n",
    "top_10_routes = routes_df.orderBy(\"df_count\", ascending=False).limit(10).collect()\n",
    "\n",
    "# Convert the results to a dictionary in the specified format\n",
    "result_dict = {f\"{row['route']}\": row['df_count'] for i, row in enumerate(top_10_routes)}\n",
    "\n",
    "# Save the dictionary to a JSON file\n",
    "with open('result.json', 'w') as f:\n",
    "    json.dump(result_dict, f, indent=4)\n",
    "\n",
    "print(\"The top 10 most frequent routes have been saved to result.json.\")\n"
   ]
  },
  {
   "cell_type": "code",
   "execution_count": 31,
   "metadata": {
    "tags": []
   },
   "outputs": [
    {
     "name": "stdout",
     "output_type": "stream",
     "text": [
      "0.9999999999999999\n",
      "Correct main answer!\n",
      "Correct main-archive answer!\n",
      "Correct main-rabota answer!\n",
      "Correct main-internet answer!\n",
      "Correct main-bonus answer!\n",
      "Correct main-news answer!\n",
      "Correct main-tariffs answer!\n",
      "Correct main-online answer!\n",
      "Correct main-vklad answer!\n",
      "Correct main-rabota-archive answer!\n"
     ]
    }
   ],
   "source": [
    "!curl -F file=@result.json 51.250.123.136:80/MDS-LSML1/maks88sgt/w6/2"
   ]
  },
  {
   "cell_type": "code",
   "execution_count": null,
   "metadata": {},
   "outputs": [],
   "source": []
  }
 ],
 "metadata": {
  "coursera": {
   "schema_names": [
    "week-4-spark-homework"
   ]
  },
  "kernelspec": {
   "display_name": "Python 3 (ipykernel)",
   "language": "python",
   "name": "python3"
  },
  "language_info": {
   "codemirror_mode": {
    "name": "ipython",
    "version": 3
   },
   "file_extension": ".py",
   "mimetype": "text/x-python",
   "name": "python",
   "nbconvert_exporter": "python",
   "pygments_lexer": "ipython3",
   "version": "3.10.9"
  },
  "toc-showcode": true,
  "vscode": {
   "interpreter": {
    "hash": "31f2aee4e71d21fbe5cf8b01ff0e069b9275f58929596ceb00d14d90e3e16cd6"
   }
  }
 },
 "nbformat": 4,
 "nbformat_minor": 4
}
